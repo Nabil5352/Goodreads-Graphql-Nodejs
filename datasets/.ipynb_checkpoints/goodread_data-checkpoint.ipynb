{
 "cells": [
  {
   "cell_type": "code",
   "execution_count": 1,
   "metadata": {},
   "outputs": [],
   "source": [
    "import numpy as np"
   ]
  },
  {
   "cell_type": "code",
   "execution_count": 2,
   "metadata": {},
   "outputs": [],
   "source": [
    "import pandas as pd"
   ]
  },
  {
   "cell_type": "code",
   "execution_count": 3,
   "metadata": {},
   "outputs": [],
   "source": [
    "Data = pd.read_csv('/home/ironduke/workshop/Datasets/goodbooks-10k-master/books.csv')"
   ]
  },
  {
   "cell_type": "code",
   "execution_count": 4,
   "metadata": {},
   "outputs": [],
   "source": [
    "df_book = pd.DataFrame(Data, columns=['isbn', 'title','isbn13', 'original_publication_year', 'image_url'])\n",
    "df_author = pd.DataFrame(Data, columns=['isbn','authors'])\n",
    "df_language = pd.DataFrame(Data, columns=['isbn','language_code'])\n",
    "df_rating = pd.DataFrame(Data, columns=['isbn','ratings_1', 'ratings_2', 'ratings_3', 'ratings_4', 'ratings_5'])"
   ]
  },
  {
   "cell_type": "code",
   "execution_count": 5,
   "metadata": {},
   "outputs": [],
   "source": [
    "df_book.rename(columns={'original_publication_year': 'originalPublicationYear', 'image_url': 'imageUrl'}, inplace=True)\n",
    "df_author.rename(columns={'authors': 'name'}, inplace=True)\n",
    "df_language.rename(columns={'language_code': 'code'}, inplace=True)\n",
    "df_rating.rename(columns={'ratings_1': 'rating1', 'ratings_2': 'rating2', 'ratings_3': 'rating3', 'ratings_4': 'rating4', 'ratings_5': 'rating5'}, inplace=True)"
   ]
  },
  {
   "cell_type": "code",
   "execution_count": 6,
   "metadata": {},
   "outputs": [],
   "source": [
    "uniq_language = df_language.drop_duplicates()\n",
    "uniq_language.dropna().to_json(r'/home/ironduke/workshop/graphql/datasets/language.json', orient='values')\n",
    "uniq_language = pd.DataFrame(df_language.code.unique())\n",
    "uniq_language.dropna().to_json(r'/home/ironduke/workshop/graphql/datasets/languageOnly.json', orient='values')"
   ]
  },
  {
   "cell_type": "code",
   "execution_count": 7,
   "metadata": {},
   "outputs": [],
   "source": [
    "uniq_authors = df_author.drop_duplicates()\n",
    "uniq_authors.dropna().to_json(r'/home/ironduke/workshop/graphql/datasets/author.json', orient='values')\n",
    "uniq_authors = pd.DataFrame(df_author.name.unique())\n",
    "uniq_authors.dropna().to_json(r'/home/ironduke/workshop/graphql/datasets/authorOnly.json', orient='values')"
   ]
  },
  {
   "cell_type": "code",
   "execution_count": 8,
   "metadata": {},
   "outputs": [],
   "source": [
    "uniq_rating = df_rating.drop_duplicates()\n",
    "uniq_rating.dropna().to_json(r'/home/ironduke/workshop/graphql/datasets/rating.json', orient='values')\n",
    "uniq_rating = df_rating.drop(['isbn'], axis=1)\n",
    "uniq_rating.dropna().to_json(r'/home/ironduke/workshop/graphql/datasets/ratingOnly.json', orient='values')"
   ]
  },
  {
   "cell_type": "code",
   "execution_count": 9,
   "metadata": {},
   "outputs": [],
   "source": [
    "df_book = df_book.drop_duplicates()\n",
    "df_book.dropna().to_json(r'/home/ironduke/workshop/graphql/datasets/book.json', orient='values')"
   ]
  }
 ],
 "metadata": {
  "kernelspec": {
   "display_name": "Python 3",
   "language": "python",
   "name": "python3"
  },
  "language_info": {
   "codemirror_mode": {
    "name": "ipython",
    "version": 3
   },
   "file_extension": ".py",
   "mimetype": "text/x-python",
   "name": "python",
   "nbconvert_exporter": "python",
   "pygments_lexer": "ipython3",
   "version": "3.7.3"
  }
 },
 "nbformat": 4,
 "nbformat_minor": 2
}
